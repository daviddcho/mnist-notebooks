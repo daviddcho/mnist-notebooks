{
 "cells": [
  {
   "cell_type": "code",
   "execution_count": 4,
   "metadata": {},
   "outputs": [
    {
     "name": "stdout",
     "output_type": "stream",
     "text": [
      "Populating the interactive namespace from numpy and matplotlib\n"
     ]
    }
   ],
   "source": [
    "%pylab inline\n",
    "%load_ext autoreload\n",
    "%autoreload 2"
   ]
  },
  {
   "cell_type": "code",
   "execution_count": 5,
   "metadata": {},
   "outputs": [
    {
     "data": {
      "text/plain": [
       "<matplotlib.image.AxesImage at 0x7f6c94c278e0>"
      ]
     },
     "execution_count": 5,
     "metadata": {},
     "output_type": "execute_result"
    },
    {
     "data": {
      "image/png": "[encoded data removed]",
      "text/plain": [
       "<Figure size 432x288 with 1 Axes>"
      ]
     },
     "metadata": {
      "needs_background": "light"
     },
     "output_type": "display_data"
    }
   ],
   "source": [
    "import numpy as np\n",
    "import gzip\n",
    "parse = lambda file: np.frombuffer(gzip.open(file).read(), dtype=np.uint8).copy()\n",
    "X_train = parse(\"data/train-images-idx3-ubyte.gz\")[0x10:].reshape((-1, 28, 28))\n",
    "Y_train = parse(\"data/train-labels-idx1-ubyte.gz\")[8:]\n",
    "\n",
    "imshow(X_train[1])"
   ]
  },
  {
   "cell_type": "code",
   "execution_count": 29,
   "metadata": {},
   "outputs": [
    {
     "name": "stdout",
     "output_type": "stream",
     "text": [
      "fake data torch.Size([4, 784])\n",
      "torch.Size([4, 784])\n",
      "tensor([[-0.6041, -0.7909],\n",
      "        [-0.6573, -0.7304],\n",
      "        [-0.4426, -1.0282],\n",
      "        [-0.5331, -0.8838]], grad_fn=<LogSoftmaxBackward>)\n",
      "real_loss 0.86\n"
     ]
    },
    {
     "name": "stderr",
     "output_type": "stream",
     "text": [
      "/tmp/ipykernel_18412/1015440553.py:13: UserWarning: To copy construct from a tensor, it is recommended to use sourceTensor.clone().detach() or sourceTensor.clone().detach().requires_grad_(True), rather than torch.tensor(sourceTensor).\n",
      "  real_x = torch.tensor(real_x)\n"
     ]
    },
    {
     "data": {
      "image/png": "[encoded data removed]",
      "text/plain": [
       "<Figure size 432x288 with 1 Axes>"
      ]
     },
     "metadata": {
      "needs_background": "light"
     },
     "output_type": "display_data"
    }
   ],
   "source": [
    "import torch\n",
    "from gan import Generator, Discriminator \n",
    "\n",
    "generator = Generator()\n",
    "discriminator = Discriminator()\n",
    "\n",
    "batch_size = 4\n",
    "\n",
    "def generator_batch():\n",
    "    samp = np.random.randint(0, X_train.shape[0], size=(batch_size))\n",
    "    real_x = X_train[samp].reshape(-1, 28*28).astype(np.float32)/255.\n",
    "    imshow(real_x[0].reshape(-1, 28))\n",
    "    real_x = (x - 0.5)/0.5\n",
    "    real_x = torch.tensor(real_x)\n",
    "    return real_x\n",
    "\n",
    "y = np.zeros((batch_size,2), dtype=np.float32)\n",
    "y[:,1] = -2\n",
    "y = torch.tensor(y)\n",
    "\n",
    "\n",
    "noise = torch.tensor(np.random.rand(batch_size, 128)).float()\n",
    "#imshow(noise)\n",
    "fake_data = generator(noise).detach()\n",
    "print(\"fake data\", fake_data.shape)\n",
    "imshow(fake_data.reshape(-1, 28, 28)[0])\n",
    "\n",
    "print(real_x.shape)\n",
    "real_out = discriminator(real_x)\n",
    "print(real_out)\n",
    "real_loss = (real_out * y).mean()\n",
    "print(f\"real_loss {real_loss.item():.2f}\")"
   ]
  }
 ],
 "metadata": {
  "kernelspec": {
   "display_name": "Python 3 (ipykernel)",
   "language": "python",
   "name": "python3"
  },
  "orig_nbformat": 4
 },
 "nbformat": 4,
 "nbformat_minor": 2
}
