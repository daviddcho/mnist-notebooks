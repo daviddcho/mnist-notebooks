{
 "cells": [
  {
   "cell_type": "code",
   "execution_count": 55,
   "id": "c2db58b4",
   "metadata": {},
   "outputs": [
    {
     "name": "stdout",
     "output_type": "stream",
     "text": [
      "Populating the interactive namespace from numpy and matplotlib\n",
      "The autoreload extension is already loaded. To reload it, use:\n",
      "  %reload_ext autoreload\n"
     ]
    }
   ],
   "source": [
    "%pylab inline\n",
    "%load_ext autoreload\n",
    "%autoreload 2\n",
    "import torch \n",
    "import torch.nn as nn \n",
    "import numpy as np\n",
    "from tqdm import trange\n",
    "import matplotlib.pyplot as plt"
   ]
  },
  {
   "cell_type": "code",
   "execution_count": 57,
   "id": "entertaining-trinidad",
   "metadata": {},
   "outputs": [],
   "source": [
    "import io\n",
    "import pickle\n",
    "import tarfile\n",
    "\n",
    "def fetch(url):\n",
    "  import requests, os, hashlib, tempfile\n",
    "  fp = os.path.join(tempfile.gettempdir(), hashlib.md5(url.encode('utf-8')).hexdigest())\n",
    "  if os.path.isfile(fp) and os.stat(fp).st_size > 0:\n",
    "    with open(fp, \"rb\") as f:\n",
    "      dat = f.read()\n",
    "  else:\n",
    "    print(\"fetching %s\" % url)\n",
    "    dat = requests.get(url).content\n",
    "    with open(fp+\".tmp\", \"wb\") as f:\n",
    "      f.write(dat)\n",
    "    os.rename(fp+\".tmp\", fp)\n",
    "  return dat\n",
    "\n",
    "def load_cifar():\n",
    "  print(\"loading data\")\n",
    "  tt = tarfile.open(fileobj=io.BytesIO(fetch(\"https://www.cs.toronto.edu/~kriz/cifar-10-python.tar.gz\")), mode=\"r:gz\")\n",
    "  db = pickle.load(tt.extractfile(\"cifar-10-batches-py/data_batch_1\"), encoding=\"bytes\")\n",
    "  X = db[b'data'].reshape((-1, 3, 32, 32))\n",
    "  Y = np.array(db[b'labels'])\n",
    "  print(\"loaded data\")\n",
    "  return X, Y"
   ]
  },
  {
   "cell_type": "code",
   "execution_count": 58,
   "id": "63f65656",
   "metadata": {},
   "outputs": [
    {
     "name": "stdout",
     "output_type": "stream",
     "text": [
      "loading data\n",
      "loaded data\n",
      "6\n"
     ]
    },
    {
     "data": {
      "image/png": "[encoded data removed]",
      "text/plain": [
       "<Figure size 432x288 with 1 Axes>"
      ]
     },
     "metadata": {
      "needs_background": "light"
     },
     "output_type": "display_data"
    }
   ],
   "source": [
    "X_train, Y_train = load_cifar()\n",
    "imshow(X_train[0].T)\n",
    "print(Y_train[0]) # apparently a frog"
   ]
  },
  {
   "cell_type": "code",
   "execution_count": 72,
   "id": "decent-joint",
   "metadata": {},
   "outputs": [
    {
     "name": "stdout",
     "output_type": "stream",
     "text": [
      "Loaded pretrained weights for efficientnet-b0\n"
     ]
    },
    {
     "name": "stderr",
     "output_type": "stream",
     "text": [
      "loss 0.3591 accuracy 0.8594: 100%|██████████| 1000/1000 [01:04<00:00, 15.53it/s]\n"
     ]
    }
   ],
   "source": [
    "from efficientnet_pytorch import EfficientNet\n",
    "\n",
    "device = 'cuda' if torch.cuda.is_available() else 'cpu'\n",
    "batch_size= 64\n",
    "model = EfficientNet.from_pretrained('efficientnet-b0', num_classes=10).to(device)\n",
    "loss_fn = nn.CrossEntropyLoss()\n",
    "optimizer = torch.optim.Adam(model.parameters())\n",
    "losses, accuracies = [], []\n",
    "for i in (t := trange(1000)):\n",
    "  samp = np.random.randint(0, X_train.shape[0], size=batch_size)\n",
    "  X = torch.tensor(X_train[samp]).float().to(device)\n",
    "  Y = torch.tensor(Y_train[samp]).long().to(device)\n",
    "  optimizer.zero_grad()\n",
    "  out = model(X)\n",
    "  accuracy = (out.argmax(dim=1) == Y).float().mean()\n",
    "  loss = loss_fn(out, Y)\n",
    "  loss.backward()\n",
    "  optimizer.step()\n",
    "  losses.append(loss.item())\n",
    "  accuracies.append(accuracy.item())\n",
    "  t.set_description(f\"loss {loss:.4f} accuracy {accuracy:.4f}\")"
   ]
  },
  {
   "cell_type": "code",
   "execution_count": 79,
   "id": "1b94de94",
   "metadata": {},
   "outputs": [
    {
     "data": {
      "text/plain": [
       "[<matplotlib.lines.Line2D at 0x7fe5da3a7af0>]"
      ]
     },
     "execution_count": 79,
     "metadata": {},
     "output_type": "execute_result"
    },
    {
     "data": {
      "image/png": "[encoded data removed]",
      "text/plain": [
       "<Figure size 432x288 with 1 Axes>"
      ]
     },
     "metadata": {
      "needs_background": "light"
     },
     "output_type": "display_data"
    }
   ],
   "source": [
    "ylim(1.1)\n",
    "plot(losses)\n",
    "plot(accuracies)"
   ]
  }
 ],
 "metadata": {
  "kernelspec": {
   "display_name": "Python 3 (ipykernel)",
   "language": "python",
   "name": "python3"
  },
  "language_info": {
   "codemirror_mode": {
    "name": "ipython",
    "version": 3
   },
   "file_extension": ".py",
   "mimetype": "text/x-python",
   "name": "python",
   "nbconvert_exporter": "python",
   "pygments_lexer": "ipython3",
   "version": "3.8.5"
  }
 },
 "nbformat": 4,
 "nbformat_minor": 5
}
